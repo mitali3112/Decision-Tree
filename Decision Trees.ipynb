{
 "cells": [
  {
   "cell_type": "markdown",
   "metadata": {},
   "source": [
    "## Decision Tree for Mushroom Data \n",
    "#### By Mitali Sheth\n",
    "#### email id: mitali3112@gmail.com"
   ]
  },
  {
   "cell_type": "code",
   "execution_count": 1,
   "metadata": {},
   "outputs": [],
   "source": [
    "import pandas as pd\n",
    "import numpy as np\n",
    "import collections\n",
    "from pprint import pprint"
   ]
  },
  {
   "cell_type": "code",
   "execution_count": 2,
   "metadata": {},
   "outputs": [],
   "source": [
    "#reading the data and adding appropriate headers\n",
    "data = data=pd.read_csv(\"/home/mitali/Downloads/agaricus-lepiota.data\",sep=',',na_values='?',names=['label', 'cap-shape','cap-surface','cap-color','bruises','odor',\n",
    "          'gill-attachment','gill-spacing','gill-size','gill-color','stalk-shape',\n",
    "          'stalk-root','stalk-surface-above-ring','stalk-surface-below-ring',\n",
    "          'stalk-color-above-ring','stalk-color-below-ring','veil-type',\n",
    "          'veil-color','ring-number','ring-type','spore-print-color','population',\n",
    "          'habitat'])\n"
   ]
  },
  {
   "cell_type": "code",
   "execution_count": 3,
   "metadata": {},
   "outputs": [
    {
     "data": {
      "text/html": [
       "<div>\n",
       "<style scoped>\n",
       "    .dataframe tbody tr th:only-of-type {\n",
       "        vertical-align: middle;\n",
       "    }\n",
       "\n",
       "    .dataframe tbody tr th {\n",
       "        vertical-align: top;\n",
       "    }\n",
       "\n",
       "    .dataframe thead th {\n",
       "        text-align: right;\n",
       "    }\n",
       "</style>\n",
       "<table border=\"1\" class=\"dataframe\">\n",
       "  <thead>\n",
       "    <tr style=\"text-align: right;\">\n",
       "      <th></th>\n",
       "      <th>label</th>\n",
       "      <th>cap-shape</th>\n",
       "      <th>cap-surface</th>\n",
       "      <th>cap-color</th>\n",
       "      <th>bruises</th>\n",
       "      <th>odor</th>\n",
       "      <th>gill-attachment</th>\n",
       "      <th>gill-spacing</th>\n",
       "      <th>gill-size</th>\n",
       "      <th>gill-color</th>\n",
       "      <th>...</th>\n",
       "      <th>stalk-surface-below-ring</th>\n",
       "      <th>stalk-color-above-ring</th>\n",
       "      <th>stalk-color-below-ring</th>\n",
       "      <th>veil-type</th>\n",
       "      <th>veil-color</th>\n",
       "      <th>ring-number</th>\n",
       "      <th>ring-type</th>\n",
       "      <th>spore-print-color</th>\n",
       "      <th>population</th>\n",
       "      <th>habitat</th>\n",
       "    </tr>\n",
       "  </thead>\n",
       "  <tbody>\n",
       "    <tr>\n",
       "      <th>0</th>\n",
       "      <td>p</td>\n",
       "      <td>x</td>\n",
       "      <td>s</td>\n",
       "      <td>n</td>\n",
       "      <td>t</td>\n",
       "      <td>p</td>\n",
       "      <td>f</td>\n",
       "      <td>c</td>\n",
       "      <td>n</td>\n",
       "      <td>k</td>\n",
       "      <td>...</td>\n",
       "      <td>s</td>\n",
       "      <td>w</td>\n",
       "      <td>w</td>\n",
       "      <td>p</td>\n",
       "      <td>w</td>\n",
       "      <td>o</td>\n",
       "      <td>p</td>\n",
       "      <td>k</td>\n",
       "      <td>s</td>\n",
       "      <td>u</td>\n",
       "    </tr>\n",
       "    <tr>\n",
       "      <th>1</th>\n",
       "      <td>e</td>\n",
       "      <td>x</td>\n",
       "      <td>s</td>\n",
       "      <td>y</td>\n",
       "      <td>t</td>\n",
       "      <td>a</td>\n",
       "      <td>f</td>\n",
       "      <td>c</td>\n",
       "      <td>b</td>\n",
       "      <td>k</td>\n",
       "      <td>...</td>\n",
       "      <td>s</td>\n",
       "      <td>w</td>\n",
       "      <td>w</td>\n",
       "      <td>p</td>\n",
       "      <td>w</td>\n",
       "      <td>o</td>\n",
       "      <td>p</td>\n",
       "      <td>n</td>\n",
       "      <td>n</td>\n",
       "      <td>g</td>\n",
       "    </tr>\n",
       "    <tr>\n",
       "      <th>2</th>\n",
       "      <td>e</td>\n",
       "      <td>b</td>\n",
       "      <td>s</td>\n",
       "      <td>w</td>\n",
       "      <td>t</td>\n",
       "      <td>l</td>\n",
       "      <td>f</td>\n",
       "      <td>c</td>\n",
       "      <td>b</td>\n",
       "      <td>n</td>\n",
       "      <td>...</td>\n",
       "      <td>s</td>\n",
       "      <td>w</td>\n",
       "      <td>w</td>\n",
       "      <td>p</td>\n",
       "      <td>w</td>\n",
       "      <td>o</td>\n",
       "      <td>p</td>\n",
       "      <td>n</td>\n",
       "      <td>n</td>\n",
       "      <td>m</td>\n",
       "    </tr>\n",
       "    <tr>\n",
       "      <th>3</th>\n",
       "      <td>p</td>\n",
       "      <td>x</td>\n",
       "      <td>y</td>\n",
       "      <td>w</td>\n",
       "      <td>t</td>\n",
       "      <td>p</td>\n",
       "      <td>f</td>\n",
       "      <td>c</td>\n",
       "      <td>n</td>\n",
       "      <td>n</td>\n",
       "      <td>...</td>\n",
       "      <td>s</td>\n",
       "      <td>w</td>\n",
       "      <td>w</td>\n",
       "      <td>p</td>\n",
       "      <td>w</td>\n",
       "      <td>o</td>\n",
       "      <td>p</td>\n",
       "      <td>k</td>\n",
       "      <td>s</td>\n",
       "      <td>u</td>\n",
       "    </tr>\n",
       "    <tr>\n",
       "      <th>4</th>\n",
       "      <td>e</td>\n",
       "      <td>x</td>\n",
       "      <td>s</td>\n",
       "      <td>g</td>\n",
       "      <td>f</td>\n",
       "      <td>n</td>\n",
       "      <td>f</td>\n",
       "      <td>w</td>\n",
       "      <td>b</td>\n",
       "      <td>k</td>\n",
       "      <td>...</td>\n",
       "      <td>s</td>\n",
       "      <td>w</td>\n",
       "      <td>w</td>\n",
       "      <td>p</td>\n",
       "      <td>w</td>\n",
       "      <td>o</td>\n",
       "      <td>e</td>\n",
       "      <td>n</td>\n",
       "      <td>a</td>\n",
       "      <td>g</td>\n",
       "    </tr>\n",
       "  </tbody>\n",
       "</table>\n",
       "<p>5 rows × 23 columns</p>\n",
       "</div>"
      ],
      "text/plain": [
       "  label cap-shape cap-surface cap-color bruises odor gill-attachment  \\\n",
       "0     p         x           s         n       t    p               f   \n",
       "1     e         x           s         y       t    a               f   \n",
       "2     e         b           s         w       t    l               f   \n",
       "3     p         x           y         w       t    p               f   \n",
       "4     e         x           s         g       f    n               f   \n",
       "\n",
       "  gill-spacing gill-size gill-color   ...   stalk-surface-below-ring  \\\n",
       "0            c         n          k   ...                          s   \n",
       "1            c         b          k   ...                          s   \n",
       "2            c         b          n   ...                          s   \n",
       "3            c         n          n   ...                          s   \n",
       "4            w         b          k   ...                          s   \n",
       "\n",
       "  stalk-color-above-ring stalk-color-below-ring veil-type veil-color  \\\n",
       "0                      w                      w         p          w   \n",
       "1                      w                      w         p          w   \n",
       "2                      w                      w         p          w   \n",
       "3                      w                      w         p          w   \n",
       "4                      w                      w         p          w   \n",
       "\n",
       "  ring-number ring-type spore-print-color population habitat  \n",
       "0           o         p                 k          s       u  \n",
       "1           o         p                 n          n       g  \n",
       "2           o         p                 n          n       m  \n",
       "3           o         p                 k          s       u  \n",
       "4           o         e                 n          a       g  \n",
       "\n",
       "[5 rows x 23 columns]"
      ]
     },
     "execution_count": 3,
     "metadata": {},
     "output_type": "execute_result"
    }
   ],
   "source": [
    "#displaying data format\n",
    "data.head()"
   ]
  },
  {
   "cell_type": "code",
   "execution_count": 4,
   "metadata": {},
   "outputs": [
    {
     "data": {
      "text/plain": [
       "label                          0\n",
       "cap-shape                      0\n",
       "cap-surface                    0\n",
       "cap-color                      0\n",
       "bruises                        0\n",
       "odor                           0\n",
       "gill-attachment                0\n",
       "gill-spacing                   0\n",
       "gill-size                      0\n",
       "gill-color                     0\n",
       "stalk-shape                    0\n",
       "stalk-root                  2480\n",
       "stalk-surface-above-ring       0\n",
       "stalk-surface-below-ring       0\n",
       "stalk-color-above-ring         0\n",
       "stalk-color-below-ring         0\n",
       "veil-type                      0\n",
       "veil-color                     0\n",
       "ring-number                    0\n",
       "ring-type                      0\n",
       "spore-print-color              0\n",
       "population                     0\n",
       "habitat                        0\n",
       "dtype: int64"
      ]
     },
     "execution_count": 4,
     "metadata": {},
     "output_type": "execute_result"
    }
   ],
   "source": [
    "#checking for any missing attributes\n",
    "data.isnull().sum()"
   ]
  },
  {
   "cell_type": "code",
   "execution_count": 5,
   "metadata": {},
   "outputs": [],
   "source": [
    "#renaming of column for easier access\n",
    "data.rename(index = str, columns = {'stalk-root':'stalkroot'}, inplace = True)\n",
    "#replacing the missing values with mode of all the values in the column\n",
    "mode_stalkroot=data.stalkroot.mode()[0]\n",
    "\n",
    "data = data.fillna({\"stalkroot\": mode_stalkroot})"
   ]
  },
  {
   "cell_type": "code",
   "execution_count": 6,
   "metadata": {},
   "outputs": [
    {
     "data": {
      "text/plain": [
       "label                       0\n",
       "cap-shape                   0\n",
       "cap-surface                 0\n",
       "cap-color                   0\n",
       "bruises                     0\n",
       "odor                        0\n",
       "gill-attachment             0\n",
       "gill-spacing                0\n",
       "gill-size                   0\n",
       "gill-color                  0\n",
       "stalk-shape                 0\n",
       "stalkroot                   0\n",
       "stalk-surface-above-ring    0\n",
       "stalk-surface-below-ring    0\n",
       "stalk-color-above-ring      0\n",
       "stalk-color-below-ring      0\n",
       "veil-type                   0\n",
       "veil-color                  0\n",
       "ring-number                 0\n",
       "ring-type                   0\n",
       "spore-print-color           0\n",
       "population                  0\n",
       "habitat                     0\n",
       "dtype: int64"
      ]
     },
     "execution_count": 6,
     "metadata": {},
     "output_type": "execute_result"
    }
   ],
   "source": [
    "#rechecking for any missing values\n",
    "data.isnull().sum()"
   ]
  },
  {
   "cell_type": "code",
   "execution_count": 7,
   "metadata": {},
   "outputs": [
    {
     "data": {
      "text/html": [
       "<div>\n",
       "<style scoped>\n",
       "    .dataframe tbody tr th:only-of-type {\n",
       "        vertical-align: middle;\n",
       "    }\n",
       "\n",
       "    .dataframe tbody tr th {\n",
       "        vertical-align: top;\n",
       "    }\n",
       "\n",
       "    .dataframe thead th {\n",
       "        text-align: right;\n",
       "    }\n",
       "</style>\n",
       "<table border=\"1\" class=\"dataframe\">\n",
       "  <thead>\n",
       "    <tr style=\"text-align: right;\">\n",
       "      <th></th>\n",
       "      <th>label</th>\n",
       "      <th>cap-shape</th>\n",
       "      <th>cap-surface</th>\n",
       "      <th>cap-color</th>\n",
       "      <th>bruises</th>\n",
       "      <th>odor</th>\n",
       "      <th>gill-attachment</th>\n",
       "      <th>gill-spacing</th>\n",
       "      <th>gill-size</th>\n",
       "      <th>gill-color</th>\n",
       "      <th>...</th>\n",
       "      <th>stalk-surface-below-ring</th>\n",
       "      <th>stalk-color-above-ring</th>\n",
       "      <th>stalk-color-below-ring</th>\n",
       "      <th>veil-type</th>\n",
       "      <th>veil-color</th>\n",
       "      <th>ring-number</th>\n",
       "      <th>ring-type</th>\n",
       "      <th>spore-print-color</th>\n",
       "      <th>population</th>\n",
       "      <th>habitat</th>\n",
       "    </tr>\n",
       "  </thead>\n",
       "  <tbody>\n",
       "    <tr>\n",
       "      <th>0</th>\n",
       "      <td>p</td>\n",
       "      <td>x</td>\n",
       "      <td>s</td>\n",
       "      <td>n</td>\n",
       "      <td>t</td>\n",
       "      <td>p</td>\n",
       "      <td>f</td>\n",
       "      <td>c</td>\n",
       "      <td>n</td>\n",
       "      <td>k</td>\n",
       "      <td>...</td>\n",
       "      <td>s</td>\n",
       "      <td>w</td>\n",
       "      <td>w</td>\n",
       "      <td>p</td>\n",
       "      <td>w</td>\n",
       "      <td>o</td>\n",
       "      <td>p</td>\n",
       "      <td>k</td>\n",
       "      <td>s</td>\n",
       "      <td>u</td>\n",
       "    </tr>\n",
       "    <tr>\n",
       "      <th>1</th>\n",
       "      <td>e</td>\n",
       "      <td>x</td>\n",
       "      <td>s</td>\n",
       "      <td>y</td>\n",
       "      <td>t</td>\n",
       "      <td>a</td>\n",
       "      <td>f</td>\n",
       "      <td>c</td>\n",
       "      <td>b</td>\n",
       "      <td>k</td>\n",
       "      <td>...</td>\n",
       "      <td>s</td>\n",
       "      <td>w</td>\n",
       "      <td>w</td>\n",
       "      <td>p</td>\n",
       "      <td>w</td>\n",
       "      <td>o</td>\n",
       "      <td>p</td>\n",
       "      <td>n</td>\n",
       "      <td>n</td>\n",
       "      <td>g</td>\n",
       "    </tr>\n",
       "    <tr>\n",
       "      <th>2</th>\n",
       "      <td>e</td>\n",
       "      <td>b</td>\n",
       "      <td>s</td>\n",
       "      <td>w</td>\n",
       "      <td>t</td>\n",
       "      <td>l</td>\n",
       "      <td>f</td>\n",
       "      <td>c</td>\n",
       "      <td>b</td>\n",
       "      <td>n</td>\n",
       "      <td>...</td>\n",
       "      <td>s</td>\n",
       "      <td>w</td>\n",
       "      <td>w</td>\n",
       "      <td>p</td>\n",
       "      <td>w</td>\n",
       "      <td>o</td>\n",
       "      <td>p</td>\n",
       "      <td>n</td>\n",
       "      <td>n</td>\n",
       "      <td>m</td>\n",
       "    </tr>\n",
       "    <tr>\n",
       "      <th>3</th>\n",
       "      <td>p</td>\n",
       "      <td>x</td>\n",
       "      <td>y</td>\n",
       "      <td>w</td>\n",
       "      <td>t</td>\n",
       "      <td>p</td>\n",
       "      <td>f</td>\n",
       "      <td>c</td>\n",
       "      <td>n</td>\n",
       "      <td>n</td>\n",
       "      <td>...</td>\n",
       "      <td>s</td>\n",
       "      <td>w</td>\n",
       "      <td>w</td>\n",
       "      <td>p</td>\n",
       "      <td>w</td>\n",
       "      <td>o</td>\n",
       "      <td>p</td>\n",
       "      <td>k</td>\n",
       "      <td>s</td>\n",
       "      <td>u</td>\n",
       "    </tr>\n",
       "    <tr>\n",
       "      <th>4</th>\n",
       "      <td>e</td>\n",
       "      <td>x</td>\n",
       "      <td>s</td>\n",
       "      <td>g</td>\n",
       "      <td>f</td>\n",
       "      <td>n</td>\n",
       "      <td>f</td>\n",
       "      <td>w</td>\n",
       "      <td>b</td>\n",
       "      <td>k</td>\n",
       "      <td>...</td>\n",
       "      <td>s</td>\n",
       "      <td>w</td>\n",
       "      <td>w</td>\n",
       "      <td>p</td>\n",
       "      <td>w</td>\n",
       "      <td>o</td>\n",
       "      <td>e</td>\n",
       "      <td>n</td>\n",
       "      <td>a</td>\n",
       "      <td>g</td>\n",
       "    </tr>\n",
       "  </tbody>\n",
       "</table>\n",
       "<p>5 rows × 23 columns</p>\n",
       "</div>"
      ],
      "text/plain": [
       "  label cap-shape cap-surface cap-color bruises odor gill-attachment  \\\n",
       "0     p         x           s         n       t    p               f   \n",
       "1     e         x           s         y       t    a               f   \n",
       "2     e         b           s         w       t    l               f   \n",
       "3     p         x           y         w       t    p               f   \n",
       "4     e         x           s         g       f    n               f   \n",
       "\n",
       "  gill-spacing gill-size gill-color   ...   stalk-surface-below-ring  \\\n",
       "0            c         n          k   ...                          s   \n",
       "1            c         b          k   ...                          s   \n",
       "2            c         b          n   ...                          s   \n",
       "3            c         n          n   ...                          s   \n",
       "4            w         b          k   ...                          s   \n",
       "\n",
       "  stalk-color-above-ring stalk-color-below-ring veil-type veil-color  \\\n",
       "0                      w                      w         p          w   \n",
       "1                      w                      w         p          w   \n",
       "2                      w                      w         p          w   \n",
       "3                      w                      w         p          w   \n",
       "4                      w                      w         p          w   \n",
       "\n",
       "  ring-number ring-type spore-print-color population habitat  \n",
       "0           o         p                 k          s       u  \n",
       "1           o         p                 n          n       g  \n",
       "2           o         p                 n          n       m  \n",
       "3           o         p                 k          s       u  \n",
       "4           o         e                 n          a       g  \n",
       "\n",
       "[5 rows x 23 columns]"
      ]
     },
     "execution_count": 7,
     "metadata": {},
     "output_type": "execute_result"
    }
   ],
   "source": [
    "data.head()"
   ]
  },
  {
   "cell_type": "markdown",
   "metadata": {},
   "source": [
    "## Splitting of data into train and test"
   ]
  },
  {
   "cell_type": "code",
   "execution_count": 8,
   "metadata": {},
   "outputs": [],
   "source": [
    "#function to divide the data into test and train \n",
    "def divide(data,test_size):\n",
    "    #for percent values\n",
    "    if isinstance(test_size,float):\n",
    "        size=round(test_size*len(data))\n",
    "    #for integer values\n",
    "    else:\n",
    "        size=test_size\n",
    "        \n",
    "    train_data=data.sample(n=size)\n",
    "    test_data=data.drop(train_data.index)\n",
    "    return train_data,test_data\n",
    "    "
   ]
  },
  {
   "cell_type": "code",
   "execution_count": 9,
   "metadata": {},
   "outputs": [],
   "source": [
    "#check for float/integer values in test_size\n",
    "tr_data,ts_data=divide(data,50)"
   ]
  },
  {
   "cell_type": "code",
   "execution_count": 10,
   "metadata": {},
   "outputs": [
    {
     "name": "stdout",
     "output_type": "stream",
     "text": [
      "50 8074\n",
      "<class 'pandas.core.frame.DataFrame'> <class 'pandas.core.frame.DataFrame'>\n"
     ]
    }
   ],
   "source": [
    "print(len(tr_data),len(ts_data))\n",
    "print(type(tr_data),type(ts_data))"
   ]
  },
  {
   "cell_type": "code",
   "execution_count": 11,
   "metadata": {},
   "outputs": [
    {
     "data": {
      "text/plain": [
       "array([['p', 'x', 's', 'n', 'f', 'y', 'f', 'c', 'n', 'b', 't', 'b', 'k',\n",
       "        'k', 'w', 'p', 'p', 'w', 'o', 'e', 'w', 'v', 'd'],\n",
       "       ['e', 'x', 'y', 'b', 't', 'n', 'f', 'c', 'b', 'w', 'e', 'b', 's',\n",
       "        's', 'e', 'w', 'p', 'w', 't', 'e', 'w', 'c', 'w'],\n",
       "       ['e', 'b', 's', 'w', 'f', 'n', 'f', 'w', 'b', 'p', 'e', 'b', 'k',\n",
       "        's', 'w', 'w', 'p', 'w', 't', 'p', 'w', 'n', 'g'],\n",
       "       ['e', 'f', 'f', 'e', 't', 'n', 'f', 'c', 'b', 'w', 't', 'b', 's',\n",
       "        's', 'w', 'w', 'p', 'w', 'o', 'p', 'k', 'v', 'd'],\n",
       "       ['e', 'b', 'y', 'w', 't', 'l', 'f', 'c', 'b', 'w', 'e', 'c', 's',\n",
       "        's', 'w', 'w', 'p', 'w', 'o', 'p', 'k', 's', 'm']], dtype=object)"
      ]
     },
     "execution_count": 11,
     "metadata": {},
     "output_type": "execute_result"
    }
   ],
   "source": [
    "#printing some rows from training dataset\n",
    "dataT=tr_data.values\n",
    "dataT[:5]"
   ]
  },
  {
   "cell_type": "code",
   "execution_count": 12,
   "metadata": {},
   "outputs": [],
   "source": [
    "#function to check if the subtree contains only one label\n",
    "def check_label(tree):\n",
    "    labels=tree[:,0]\n",
    "    unique_labels=np.unique(labels)\n",
    "    \n",
    "    if len(unique_labels)==1:\n",
    "        return True\n",
    "    else:\n",
    "        return False"
   ]
  },
  {
   "cell_type": "code",
   "execution_count": 13,
   "metadata": {},
   "outputs": [],
   "source": [
    "#function to classify data label at the end of stopping criteria\n",
    "def classify(tree):\n",
    "    labels=tree[:,0]\n",
    "    unique_labels,count_unique=np.unique(labels,return_counts=True)\n",
    "    #print(unique_labels)\n",
    "    \n",
    "    max_value=count_unique.argmax()\n",
    "    \n",
    "    return unique_labels[max_value]"
   ]
  },
  {
   "cell_type": "code",
   "execution_count": 14,
   "metadata": {},
   "outputs": [],
   "source": [
    "#function to find all the possible split points in the tree\n",
    "def all_splits(tree):\n",
    "    #dictionary to store a list of possible splits for every column in key value pair\n",
    "    potential_split_values={}\n",
    "    no_columns=(tree.shape)[1]\n",
    "    for column in range(1,no_columns):\n",
    "        #finding the possible splits for every column\n",
    "        column_data=tree[:,column]\n",
    "        unique_values=np.unique(column_data)\n",
    "        feature = features_types[column-1]\n",
    "#Appending calculated split value to the list pointing to particular column\n",
    "        if feature == \"continuous\":\n",
    "            potential_split_values[column] = []\n",
    "            for index in range(len(unique_values)):\n",
    "                #calculating the midpoint between every 2 points\n",
    "                if index != 0:\n",
    "                    current_value = unique_values[index]\n",
    "                    previous_value = unique_values[index - 1]\n",
    "                    potential_split = (current_value + previous_value) / 2\n",
    "\n",
    "                    potential_split_values[column].append(potential_split)\n",
    "        \n",
    "        # feature is categorical\n",
    "        #more than one label must be present \n",
    "        elif len(unique_values) > 1:\n",
    "            potential_split_values[column] = unique_values\n",
    "      \n",
    "            \n",
    "    return potential_split_values\n",
    "                           "
   ]
  },
  {
   "cell_type": "code",
   "execution_count": 15,
   "metadata": {},
   "outputs": [],
   "source": [
    "#function to split the tree into left and right subtree based on condition\n",
    "def split(tree,column,value):\n",
    "    column_data=tree[:,column]\n",
    "    \n",
    "    feature = features_types[column-1]\n",
    "    if feature == \"continuous\":\n",
    "        #comparison for continuous data\n",
    "        left=tree[column_data<=value]\n",
    "        right=tree[column_data>value]\n",
    "    else:\n",
    "        #comparison for categorical data\n",
    "        left=tree[column_data==value]\n",
    "        right=tree[column_data!=value]\n",
    "    return left,right"
   ]
  },
  {
   "cell_type": "code",
   "execution_count": 16,
   "metadata": {},
   "outputs": [],
   "source": [
    "#function to calculate gini impurity or entropy impurity \n",
    "#depending on flag value\n",
    "def impurity(tree,flag='e'):\n",
    "    labels=tree[:,0]    \n",
    "    unique_labels,count_unique=np.unique(labels,return_counts=True)\n",
    "    d=dict(zip(unique_labels,count_unique))\n",
    "    gini=0.0\n",
    "    #print(d)\n",
    "    if flag=='g':\n",
    "        total=count_unique.sum()\n",
    "        for key in d.keys():\n",
    "            gini=gini+((d[key]/total)**2)\n",
    "        gini=1-gini\n",
    "        return gini\n",
    "    if flag=='e':\n",
    "        probability=count_unique/count_unique.sum()\n",
    "        entropy=sum(probability*-np.log2(probability))\n",
    "        return entropy\n",
    "        "
   ]
  },
  {
   "cell_type": "code",
   "execution_count": 17,
   "metadata": {},
   "outputs": [],
   "source": [
    "#function to calculate overall gini impurity or entropy impurity depending on flag value\n",
    "def overall_impurity(left,right,flag='e'):\n",
    "    len_tree=len(left)+len(right)\n",
    "    p_left=len(left)/len_tree\n",
    "    p_right=len(right)/len_tree\n",
    "\n",
    "    \n",
    "    if flag=='g':\n",
    "        lunique_labels,lcount_unique=np.unique(left,return_counts=True)\n",
    "        runique_labels,rcount_unique=np.unique(right,return_counts=True)\n",
    "        lp=dict(zip(lunique_labels, lcount_unique))\n",
    "        lpn=lp['p']\n",
    "        rp=dict(zip(runique_labels, rcount_unique))\n",
    "        rpn=rp['p']\n",
    "        overall_imp=((lpn/len_tree)*impurity(left,flag))+((rpn/len_tree)*impurity(right,flag))\n",
    "    if flag=='e':\n",
    "        overall_imp=(p_left*impurity(left,flag)+p_right*impurity(right,flag))\n",
    "    return overall_imp"
   ]
  },
  {
   "cell_type": "code",
   "execution_count": 18,
   "metadata": {},
   "outputs": [],
   "source": [
    "#finding the best split value from all potential splits and calculating impurity in each case\n",
    "\n",
    "def find_best_split(tree,potential_splits):\n",
    "    overall_imp=999\n",
    "    for column in potential_splits:\n",
    "        for value in potential_splits[column]:\n",
    "            #if not isinstance(value,str):\n",
    "                #continue\n",
    "            left,right=split(tree,column,value)\n",
    "            current_impurity=overall_impurity(left,right,'g')\n",
    "\n",
    "            if current_impurity<overall_imp:\n",
    "                overall_imp=current_impurity\n",
    "                best_column=column\n",
    "                best_value=value\n",
    "    return best_column,best_value"
   ]
  },
  {
   "cell_type": "markdown",
   "metadata": {},
   "source": [
    "## Algorithm"
   ]
  },
  {
   "cell_type": "code",
   "execution_count": 19,
   "metadata": {},
   "outputs": [],
   "source": [
    "#function to differentiate the features as continuous or categorical\n",
    "def type_features(data):\n",
    "    \n",
    "    feature_types = []\n",
    "    threshold = 15\n",
    "    for feature in data.columns:\n",
    "        if feature != \"label\":\n",
    "            unique_values = data[feature].unique()\n",
    "            example_value = unique_values[0]\n",
    "\n",
    "            if (isinstance(example_value, str)) or (len(unique_values) <= threshold):\n",
    "                feature_types.append(\"categorical\")\n",
    "            else:\n",
    "                feature_types.append(\"continuous\")\n",
    "    \n",
    "    return feature_types"
   ]
  },
  {
   "cell_type": "code",
   "execution_count": 20,
   "metadata": {},
   "outputs": [],
   "source": [
    "#example for possible tree type\n",
    "example_tree = {\"petal_width <= 0.8\": [\"Iris-setosa\", \n",
    "                                       {\"petal_width <= 1.65\": [{\"petal_length <= 4.9\": [\"Iris-versicolor\", \n",
    "                                                                                         \"Iris-virginica\"]}, \n",
    "                                                                \"Iris-virginica\"]}]}"
   ]
  },
  {
   "cell_type": "code",
   "execution_count": 21,
   "metadata": {},
   "outputs": [],
   "source": [
    "#main function for decision tree algorithm\n",
    "def decision_tree(data,counter=0,min_samples=2,max_depth=5):\n",
    "    #for first case with root node\n",
    "    if counter == 0:\n",
    "        global column_headings,features_types\n",
    "        column_headings=data.columns\n",
    "        features_types=type_features(data)\n",
    "        data = data.values\n",
    "    else:\n",
    "        data = data\n",
    "    #stopping criteria for recursion\n",
    "    if (check_label(data)):# or (len(data)<=min_samples) or (counter==max_depth):\n",
    "        classification=classify(data)\n",
    "        \n",
    "        return classification\n",
    "    \n",
    "    else:\n",
    "        #recursion starts and counter value increased\n",
    "        counter=counter+1\n",
    "        #find all potential split values in the data\n",
    "        potential_splits=all_splits(data)\n",
    "        #find the best split column and its respective value\n",
    "        best_column,best_value=find_best_split(data,potential_splits)\n",
    "        #split the data according to the parameters received above\n",
    "        left,right=split(data,best_column,best_value)\n",
    "        #find the feature used to split data\n",
    "        feature=column_headings[best_column]\n",
    "        #find the type of feature\n",
    "        feature_type = features_types[best_column-1]\n",
    "        #representation of question in the tree\n",
    "        if feature_type == \"continuous\":\n",
    "            question=\"{} <= {}\".format(feature,best_value)\n",
    "        else:\n",
    "            question=\"{} == {}\".format(feature,best_value)\n",
    "        #creating the subtrees\n",
    "        subtree = {question: []}\n",
    "        \n",
    "        yes=decision_tree(left,counter,min_samples)\n",
    "        no=decision_tree(right,counter,min_samples)\n",
    "        #if both subtrees result the same result no need to progress\n",
    "        if yes==no:\n",
    "            subtree=yes\n",
    "        else:\n",
    "            #appending appropriate values\n",
    "            subtree[question].append(yes)\n",
    "            subtree[question].append(no)\n",
    "        \n",
    "        return subtree\n",
    "        \n",
    "        "
   ]
  },
  {
   "cell_type": "code",
   "execution_count": 22,
   "metadata": {},
   "outputs": [
    {
     "name": "stdout",
     "output_type": "stream",
     "text": [
      "{'gill-size == b': [{'odor == f': ['p', 'e']}, {'cap-color == y': ['e', 'p']}]}\n"
     ]
    }
   ],
   "source": [
    "#training the data with max_depth of 3 levels\n",
    "tree = decision_tree(tr_data,max_depth=3)\n",
    "pprint(tree)\n"
   ]
  },
  {
   "cell_type": "code",
   "execution_count": 23,
   "metadata": {},
   "outputs": [
    {
     "name": "stdout",
     "output_type": "stream",
     "text": [
      "['categorical', 'categorical', 'categorical', 'categorical', 'categorical', 'categorical', 'categorical', 'categorical', 'categorical', 'categorical', 'categorical', 'categorical', 'categorical', 'categorical', 'categorical', 'categorical', 'categorical', 'categorical', 'categorical', 'categorical', 'categorical', 'categorical']\n"
     ]
    }
   ],
   "source": [
    "#printing the type of features present in the data\n",
    "print(features_types)"
   ]
  },
  {
   "cell_type": "markdown",
   "metadata": {},
   "source": [
    "## TEST"
   ]
  },
  {
   "cell_type": "code",
   "execution_count": 24,
   "metadata": {},
   "outputs": [
    {
     "data": {
      "text/plain": [
       "label                       p\n",
       "cap-shape                   x\n",
       "cap-surface                 s\n",
       "cap-color                   n\n",
       "bruises                     t\n",
       "odor                        p\n",
       "gill-attachment             f\n",
       "gill-spacing                c\n",
       "gill-size                   n\n",
       "gill-color                  k\n",
       "stalk-shape                 e\n",
       "stalkroot                   e\n",
       "stalk-surface-above-ring    s\n",
       "stalk-surface-below-ring    s\n",
       "stalk-color-above-ring      w\n",
       "stalk-color-below-ring      w\n",
       "veil-type                   p\n",
       "veil-color                  w\n",
       "ring-number                 o\n",
       "ring-type                   p\n",
       "spore-print-color           k\n",
       "population                  s\n",
       "habitat                     u\n",
       "Name: 0, dtype: object"
      ]
     },
     "execution_count": 24,
     "metadata": {},
     "output_type": "execute_result"
    }
   ],
   "source": [
    "#testing the trained decision tree with one sample\n",
    "example = ts_data.iloc[0]\n",
    "example"
   ]
  },
  {
   "cell_type": "code",
   "execution_count": 25,
   "metadata": {},
   "outputs": [],
   "source": [
    "#function to classify the tree for one sample\n",
    "def classify_example(example,tree):\n",
    "    question=list(tree.keys())[0]\n",
    "    feature,operator,value=question.split()\n",
    "    if operator==\"<=\":\n",
    "        if example[feature]<=float(value):\n",
    "            answer=tree[question][0]\n",
    "        else:\n",
    "            answer=tree[question][1]\n",
    "    else:\n",
    "        if str(example[feature])==value:\n",
    "            answer=tree[question][0]\n",
    "        else:\n",
    "            answer=tree[question][1]\n",
    "          \n",
    "    \n",
    "    if not isinstance(answer,dict):\n",
    "        return answer\n",
    "    else:\n",
    "        rem_tree=answer\n",
    "        return classify_example(example,rem_tree)"
   ]
  },
  {
   "cell_type": "code",
   "execution_count": 26,
   "metadata": {},
   "outputs": [
    {
     "data": {
      "text/plain": [
       "'p'"
      ]
     },
     "execution_count": 26,
     "metadata": {},
     "output_type": "execute_result"
    }
   ],
   "source": [
    "classify_example(example, tree)"
   ]
  },
  {
   "cell_type": "code",
   "execution_count": 27,
   "metadata": {},
   "outputs": [],
   "source": [
    "#function to calculate accuracy of the tree\n",
    "def calculate_accuracy(data,tree):\n",
    "    data[\"classification\"]=data.apply(classify_example,axis=1,args=(tree,))\n",
    "    data[\"classification_correct\"]=data.classification==data.label\n",
    "    \n",
    "    y_actu = pd.Series(data.label, name='Actual')\n",
    "    y_pred = pd.Series(data.classification, name='Predicted')\n",
    "    df_confusion = pd.crosstab(y_actu, y_pred)\n",
    "    df_conf_norm = df_confusion / df_confusion.sum(axis=1)\n",
    "    print(\"Confusion Matrix\",end='\\n\\n')\n",
    "    print(df_confusion,end='\\n\\n')\n",
    "    print(\"Normalised Confusion Matrix\",end='\\n\\n')\n",
    "    print(df_conf_norm,end='\\n\\n')    \n",
    "   \n",
    "    idx = pd.IndexSlice\n",
    "    TP=df_confusion.loc['e', idx['e']]\n",
    "    FP=df_confusion.loc['p', idx['e']]\n",
    "    TN=df_confusion.loc['p', idx['p']]\n",
    "    FN=df_confusion.loc['e', idx['p']]\n",
    "    accuracy=(TP+TN)/(TP+TN+FP+FN)\n",
    "    precision= TP/(TP+FP)\n",
    "    recall=TP/(TP+FN)\n",
    "    f1=2*((precision*recall)/(precision+recall))\n",
    "    #accuracy=data.classification_correct.mean()\n",
    "    return accuracy,f1\n",
    "    "
   ]
  },
  {
   "cell_type": "code",
   "execution_count": 30,
   "metadata": {},
   "outputs": [
    {
     "name": "stdout",
     "output_type": "stream",
     "text": [
      "Confusion Matrix\n",
      "\n",
      "Predicted   e   p\n",
      "Actual           \n",
      "e          29   0\n",
      "p           0  21\n",
      "\n",
      "Normalised Confusion Matrix\n",
      "\n",
      "Predicted  e  p\n",
      "Actual         \n",
      "e          1  0\n",
      "p          0  1\n",
      "\n",
      "Accuracy= 1.0\n",
      "F1 Score= 1.0\n"
     ]
    }
   ],
   "source": [
    "#displaying accuracy for train data for gini impurity\n",
    "accuracy,f1 = calculate_accuracy(tr_data, tree)\n",
    "print(\"Accuracy=\",accuracy)\n",
    "print(\"F1 Score=\",f1)"
   ]
  },
  {
   "cell_type": "code",
   "execution_count": 31,
   "metadata": {},
   "outputs": [
    {
     "name": "stdout",
     "output_type": "stream",
     "text": [
      "Confusion Matrix\n",
      "\n",
      "Predicted     e     p\n",
      "Actual               \n",
      "e          1923   139\n",
      "p            56  1944\n",
      "\n",
      "Normalised Confusion Matrix\n",
      "\n",
      "Predicted         e       p\n",
      "Actual                     \n",
      "e          0.932590  0.0695\n",
      "p          0.027158  0.9720\n",
      "\n",
      "{'gill-size == b': [{'odor == f': ['p', 'e']}, 'p']}\n",
      "Accuracy= 0.9519940915805022\n",
      "F1 Score= 0.9517446176688938\n"
     ]
    }
   ],
   "source": [
    "#printing the tree for test data with gini impurity\n",
    "tr_data, ts_data = divide(data, 0.5)\n",
    "\n",
    "accuracy,f1 = calculate_accuracy(ts_data, tree)\n",
    "\n",
    "pprint(tree)\n",
    "print(\"Accuracy=\",accuracy)\n",
    "print(\"F1 Score=\",f1)"
   ]
  },
  {
   "cell_type": "code",
   "execution_count": 28,
   "metadata": {},
   "outputs": [
    {
     "name": "stdout",
     "output_type": "stream",
     "text": [
      "Confusion Matrix\n",
      "\n",
      "Predicted   e   p\n",
      "Actual           \n",
      "e          29   0\n",
      "p           0  21\n",
      "\n",
      "Normalised Confusion Matrix\n",
      "\n",
      "Predicted  e  p\n",
      "Actual         \n",
      "e          1  0\n",
      "p          0  1\n",
      "\n",
      "{'odor == n': [{'cap-color == p': ['p', 'e']}, {'population == s': ['e', 'p']}]}\n",
      "Accuracy= 1.0\n",
      "F1 Score= 1.0\n"
     ]
    }
   ],
   "source": [
    "#printing the tree for training data with entropy impurity\n",
    "#tr_data, ts_data = divide(data, 0.5)\n",
    "#tree = decision_tree(tr_data)\n",
    "accuracy,f1 = calculate_accuracy(tr_data, tree)\n",
    "\n",
    "pprint(tree)\n",
    "print(\"Accuracy=\",accuracy)\n",
    "print(\"F1 Score=\",f1)"
   ]
  },
  {
   "cell_type": "code",
   "execution_count": 29,
   "metadata": {},
   "outputs": [
    {
     "name": "stdout",
     "output_type": "stream",
     "text": [
      "Confusion Matrix\n",
      "\n",
      "Predicted     e     p\n",
      "Actual               \n",
      "e          3675   504\n",
      "p           464  3431\n",
      "\n",
      "Normalised Confusion Matrix\n",
      "\n",
      "Predicted         e         p\n",
      "Actual                       \n",
      "e          0.879397  0.129397\n",
      "p          0.111031  0.880873\n",
      "\n",
      "{'odor == n': [{'cap-color == p': ['p', 'e']}, {'population == s': ['e', 'p']}]}\n",
      "0.8801089918256131\n",
      "F1 Score= 0.883625871603751\n"
     ]
    }
   ],
   "source": [
    "#printing the tree for test data with entropy impurity\n",
    "accuracy,f1 = calculate_accuracy(ts_data, tree)\n",
    "\n",
    "pprint(tree)\n",
    "print(accuracy)\n",
    "print(\"F1 Score=\",f1)"
   ]
  },
  {
   "cell_type": "code",
   "execution_count": 28,
   "metadata": {},
   "outputs": [
    {
     "name": "stdout",
     "output_type": "stream",
     "text": [
      "Confusion Matrix\n",
      "\n",
      "Predicted   e   p\n",
      "Actual           \n",
      "e          25   0\n",
      "p           0  25\n",
      "\n",
      "Normalised Confusion Matrix\n",
      "\n",
      "Predicted  e  p\n",
      "Actual         \n",
      "e          1  0\n",
      "p          0  1\n",
      "\n",
      "Accuracy= 1.0\n",
      "F1 Score= 1.0\n"
     ]
    }
   ],
   "source": [
    "#displaying accuracy for train data for entropy impurity with check label stopping criteria only\n",
    "accuracy,f1 = calculate_accuracy(tr_data, tree)\n",
    "print(\"Accuracy=\",accuracy)\n",
    "print(\"F1 Score=\",f1)"
   ]
  },
  {
   "cell_type": "code",
   "execution_count": 29,
   "metadata": {},
   "outputs": [
    {
     "name": "stdout",
     "output_type": "stream",
     "text": [
      "Confusion Matrix\n",
      "\n",
      "Predicted     e     p\n",
      "Actual               \n",
      "e          1905   208\n",
      "p            48  1901\n",
      "\n",
      "Normalised Confusion Matrix\n",
      "\n",
      "Predicted         e         p\n",
      "Actual                       \n",
      "e          0.901562  0.106721\n",
      "p          0.022717  0.975372\n",
      "\n",
      "{'odor == n': [{'cap-shape == b': ['p', {'cap-color == y': ['p', 'e']}]},\n",
      "               {'stalkroot == c': ['e', 'p']}]}\n",
      "Accuracy= 0.9369768586903003\n",
      "F1 Score= 0.9370388588293163\n"
     ]
    }
   ],
   "source": [
    "#printing the tree for test data with entropy impurity with check label stopping criteria only\n",
    "tr_data, ts_data = divide(data, 0.5)\n",
    "\n",
    "accuracy,f1 = calculate_accuracy(ts_data, tree)\n",
    "\n",
    "pprint(tree)\n",
    "print(\"Accuracy=\",accuracy)\n",
    "print(\"F1 Score=\",f1)"
   ]
  },
  {
   "cell_type": "code",
   "execution_count": 28,
   "metadata": {},
   "outputs": [
    {
     "name": "stdout",
     "output_type": "stream",
     "text": [
      "Confusion Matrix\n",
      "\n",
      "Predicted   e   p\n",
      "Actual           \n",
      "e          29   0\n",
      "p           0  21\n",
      "\n",
      "Normalised Confusion Matrix\n",
      "\n",
      "Predicted  e  p\n",
      "Actual         \n",
      "e          1  0\n",
      "p          0  1\n",
      "\n",
      "Accuracy= 1.0\n",
      "F1 Score= 1.0\n"
     ]
    }
   ],
   "source": [
    "#displaying accuracy for train data for gini impurity with check label stopping criteria only\n",
    "accuracy,f1 = calculate_accuracy(tr_data, tree)\n",
    "print(\"Accuracy=\",accuracy)\n",
    "print(\"F1 Score=\",f1)"
   ]
  },
  {
   "cell_type": "code",
   "execution_count": 29,
   "metadata": {},
   "outputs": [
    {
     "name": "stdout",
     "output_type": "stream",
     "text": [
      "Confusion Matrix\n",
      "\n",
      "Predicted     e     p\n",
      "Actual               \n",
      "e          1965   113\n",
      "p            67  1917\n",
      "\n",
      "Normalised Confusion Matrix\n",
      "\n",
      "Predicted         e         p\n",
      "Actual                       \n",
      "e          0.945621  0.056956\n",
      "p          0.032243  0.966230\n",
      "\n",
      "{'gill-size == b': [{'odor == f': ['p', 'e']}, {'cap-color == y': ['e', 'p']}]}\n",
      "Accuracy= 0.9556868537666174\n",
      "F1 Score= 0.9562043795620437\n"
     ]
    }
   ],
   "source": [
    "#printing the tree for test data with gini impurity with check label stopping criteria only\n",
    "tr_data, ts_data = divide(data, 0.5)\n",
    "\n",
    "accuracy,f1 = calculate_accuracy(ts_data, tree)\n",
    "\n",
    "pprint(tree)\n",
    "print(\"Accuracy=\",accuracy)\n",
    "print(\"F1 Score=\",f1)"
   ]
  }
 ],
 "metadata": {
  "kernelspec": {
   "display_name": "Python 3",
   "language": "python",
   "name": "python3"
  },
  "language_info": {
   "codemirror_mode": {
    "name": "ipython",
    "version": 3
   },
   "file_extension": ".py",
   "mimetype": "text/x-python",
   "name": "python",
   "nbconvert_exporter": "python",
   "pygments_lexer": "ipython3",
   "version": "3.6.7"
  }
 },
 "nbformat": 4,
 "nbformat_minor": 2
}
